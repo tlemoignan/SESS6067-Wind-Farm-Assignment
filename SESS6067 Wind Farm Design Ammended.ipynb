{
 "cells": [
  {
   "cell_type": "markdown",
   "metadata": {},
   "source": [
    "# Design of wind farm - Ammended by Thomas Le Moignan"
   ]
  },
  {
   "cell_type": "markdown",
   "metadata": {},
   "source": [
    "\n",
    "Python created on Fri Feb 03 20:53:32 2017\n",
    "\n",
    "@author: J.Wellicome, modified by S.Turnock and Artur K. Lidtke for SESS6058 coursework\n",
    "\n",
    "Computes Power & thrust data for Turbines of specified geometry.\n",
    "Made into Juypter notebook in 2020 by SRT\n",
    "Modified for MTEC TCE1 Module June/July 2020\n",
    "Modified for sess6067 Feb 2021\n"
   ]
  },
  {
   "cell_type": "code",
   "execution_count": 2,
   "metadata": {},
   "outputs": [],
   "source": [
    "import numpy as np\n",
    "import matplotlib.pyplot as plt\n",
    "from scipy.interpolate import interp1d\n",
    "import statistics\n",
    "\n",
    "def readInputData(filename):\n",
    "    \"\"\" Imports data from a file. See the example file for details of the accepted format\n",
    "    \n",
    "    Arguments:\n",
    "        filename - path to the file\n",
    "    \n",
    "    Returns:\n",
    "        data - dictionary of all variables and arrays defined in the data file\n",
    "        variables - labels of the variables (useful for arrays only)\n",
    "    \"\"\"\n",
    "    # get a string representation of the input file\n",
    "    with open(filename) as f:\n",
    "        s = f.readlines()\n",
    "    \n",
    "    # keep each line separately, ignore any comments and empty lines\n",
    "    s = [l.replace('\\n','') for l in s if (l and l[0] != '#' and l!='\\n')]\n",
    "    \n",
    "    data,variables = {},{}\n",
    "    currentData = ''\n",
    "    readingData = False\n",
    "    \n",
    "    # go over each line and extract information\n",
    "    for l in s:\n",
    "        # a new data array\n",
    "        if l.startswith('data') or l.startswith('DATA'):\n",
    "            data[l.split('=')[1].replace('\"','').strip()] = []\n",
    "            currentData = l.split('=')[1].replace('\"','').strip()\n",
    "            readingData = True\n",
    "        \n",
    "        # variables for the current data array\n",
    "        elif l.startswith('variables') or l.startswith('VARIABLES'):\n",
    "            variables[currentData] = [v for v in l.split('=')[1].replace('\"','').split(',')]\n",
    "        \n",
    "        # line of actual data for a data array\n",
    "        elif readingData:\n",
    "            # keep all data as strings, let the other parts of the code worry about conversion\n",
    "            data[currentData].append([v for v in l.split()])\n",
    "            \n",
    "        else:\n",
    "            # individual variable - keep the value as string and let the other parts\n",
    "            # of the code worry about conversion\n",
    "            data[l.split('=')[0].strip()] = l.split('=')[1].strip()\n",
    "            variables[l.split('=')[0].strip()] = l.split('=')[0].strip() # this label is meaningless but keep it for consistency\n",
    "    \n",
    "    # return all the data\n",
    "    return data,variables"
   ]
  },
  {
   "cell_type": "code",
   "execution_count": 3,
   "metadata": {},
   "outputs": [],
   "source": [
    "def GOLDK(N,X,TPHI):\n",
    "    \"\"\" Computes the Goldstein correction factor\n",
    "    \n",
    "    Arguments:\n",
    "        N - number of blades\n",
    "        X - non-dimensional radius\n",
    "        TPHI - tan of the PHI angle\n",
    "    \n",
    "    Returns:\n",
    "        K - Goldstein correction factor\n",
    "    \"\"\"\n",
    "    K = 1.\n",
    "    if np.abs(TPHI) > 0.001:\n",
    "        F = N/2.0/X/TPHI-0.50\n",
    "        if np.abs(F) > 85.:\n",
    "            K = 1.\n",
    "        else:\n",
    "            K = 2.0*np.arccos(np.cosh(X*F)/np.cosh(F))/np.pi\n",
    "    \n",
    "    return K"
   ]
  },
  {
   "cell_type": "code",
   "execution_count": 4,
   "metadata": {},
   "outputs": [],
   "source": [
    "def Rayleigh(U,Umean):\n",
    "    \"\"\"\n",
    "    calculates the probablity of rayleigh function\n",
    "    \"\"\"\n",
    "    A=np.pi*U/(2*Umean*Umean)\n",
    "    B=-np.pi*np.square(U/(2*Umean))\n",
    "    prob=A*np.exp(B)\n",
    "    return prob"
   ]
  },
  {
   "cell_type": "code",
   "execution_count": 5,
   "metadata": {},
   "outputs": [],
   "source": [
    "def interp(ALPHA,A,C):\n",
    "    \"\"\" Performe Lagrange polynomial interpolation\n",
    "    \n",
    "    Arguments\n",
    "        ALPHA - value at which to interpolate\n",
    "        A - reference x data\n",
    "        C - reference y data\n",
    "        \n",
    "    Returns\n",
    "        COEFT - interpolated value of C at ALPHA\n",
    "    \"\"\"\n",
    "    \n",
    "    N = A.shape[0]\n",
    "    M = 4\n",
    "    \n",
    "    for i in range(1,N):\n",
    "        if ALPHA < A[0]:\n",
    "            COEFT = C[0]\n",
    "            break\n",
    "        \n",
    "        elif ALPHA >= A[-1]:\n",
    "            COEFT = C[-1]\n",
    "            break\n",
    "        \n",
    "        elif A[i-1] <= ALPHA and A[i] > ALPHA:\n",
    "            \n",
    "            I = i-M/2\n",
    "            if I < 0:\n",
    "                I = 0\n",
    "            if I > (N-M):\n",
    "                I = N-M\n",
    "\n",
    "            I = int(I)   #added to eliminate integer error\n",
    "            \n",
    "            S,V = np.zeros(M),np.zeros(M)\n",
    "            \n",
    "            for J in range(1,M+1):\n",
    "                V[J-1] = C[J+I-1]\n",
    "                S[J-1] = A[J+I-1]\n",
    "            \n",
    "            for J in range(1,M):\n",
    "                for I in range(J+1,M+1):\n",
    "                    V[I-1] = (V[I-1]-V[J-1])/(S[I-1]-S[J-1])\n",
    "    \n",
    "            U = V[M-1]\n",
    "            for I in range(M-1,0,-1):\n",
    "                U = (ALPHA-S[I-1])*U+V[I-1]\n",
    "            \n",
    "            COEFT = U\n",
    "            break\n",
    "    \n",
    "    return COEFT\n"
   ]
  },
  {
   "cell_type": "code",
   "execution_count": 6,
   "metadata": {},
   "outputs": [],
   "source": [
    "def TurbinePerformance(dB,dA,Bpitch,SF,NB,Dm,Vw,BRPM):\n",
    "    \"\"\" Performe Analysis of Turbine at specifc condition\n",
    "\n",
    "     Arguments\n",
    "        dB Data definig blade shape\n",
    "        dA Data defining section performance\n",
    "        Bpitch = set blade pitch\n",
    "        SF = set scale factor\n",
    "        NB= number of blades\n",
    "        Dm- diameter in m\n",
    "        Vw=speed in m/s\n",
    "        BRPM = rat eof rotation per minute\n",
    "               \n",
    "    Returns\n",
    "        TSR = tip speed ratio\n",
    "        CPOWER = power coeffiencit\n",
    "        CTHRUST thrust coefficient\n",
    "    \"\"\"\n",
    "    \n",
    "    # Set initial relaxation factor (MU) for updating ALPHA in iteration loop\n",
    "    MU = 0.9\n",
    "    # IMCRIT=Count of secs MACH>MCRITA\n",
    "    IMCRIT = 0\n",
    "    A1 = 0.\n",
    "    # Mach number corrections\n",
    "    # print(Bpitch,SF,NB,Dm,Vw,BRPM)\n",
    "    DIFCP = np.zeros(dB.shape[0])\n",
    "    DIFCT = np.zeros(dB.shape[0])\n",
    "    ANGLE = np.zeros(dB.shape[0])\n",
    "    LIFT = np.zeros(dB.shape[0])\n",
    "    DRAG = np.zeros(dB.shape[0])\n",
    "    PHIS = np.zeros(dB.shape[0])\n",
    "    AAXIAL = np.zeros(dB.shape[0])\n",
    "    ATANG = np.zeros(dB.shape[0])\n",
    "    GOLD = np.zeros(dB.shape[0])\n",
    "    MACHNO = np.zeros(dB.shape[0])\n",
    "    MCRITS = np.zeros(dB.shape[0])\n",
    "    DIFFS = np.zeros(dB.shape[0])\n",
    "    \n",
    "    #   set up blade parameters  \n",
    "    for IXCOUNT in range(dB.shape[0]):\n",
    "        \n",
    "        X = dB[IXCOUNT,0]\n",
    "        THETA = dB[IXCOUNT,2]/180.*np.pi + Bpitch\n",
    "        SIGMA = SF*dB[IXCOUNT,1]*Nblades # solidity\n",
    "        TSR = Dm*np.pi*BRPM/(Vw*60.0)\n",
    "        MACH=Vw*np.sqrt(1.0+(TSR*X)**2)/VSOUND   \n",
    "        if MACH < 0.97:\n",
    "            COMPFAC=1.0/(np.sqrt(1.0-MACH*MACH))\n",
    "        else:\n",
    "            COPMFAC=4.0  \n",
    "        # loop over angle of attack\n",
    "        # initial estimate\n",
    "        ALPHA=np.arctan(0.8/(TSR*X))-THETA\n",
    "        for ICOUNT in range(nAlphaItersMax):\n",
    "            PHI=ALPHA+THETA\n",
    "            TPHI=np.tan(PHI)\n",
    "            \n",
    "            # interpolate the force coefficients\n",
    "            CLIFT = COMPFAC*interp(ALPHA/np.pi*180,dA[:,0],dA[:,1])\n",
    "            CDRAG = COMPFAC*interp(ALPHA/np.pi*180,dA[:,0],dA[:,2])\n",
    "            GAMMA = np.arctan(CDRAG/CLIFT)\n",
    "            \n",
    "            # Goldstein correction due to tip loss\n",
    "            K = GOLDK(NB,X,np.tan(TPHI))\n",
    "            \n",
    "            # axial inflow factor\n",
    "            AA=4.0*np.pi*X*K*np.sin(PHI)*TPHI/(1.0+TPHI*CDRAG/CLIFT)\n",
    "            AB=SIGMA*CLIFT\n",
    "            AA=AB/(AB+AA)\n",
    "            \n",
    "            # tangential inflow factor\n",
    "            AT=AA*np.tan(PHI-GAMMA)/TSR/X\n",
    "            \n",
    "            # derivative of power coefficient\n",
    "            DCPDX=2.0*X*TSR*SIGMA*CLIFT*(1.0-np.tan(GAMMA)/TPHI)/np.sin(PHI)/np.pi\n",
    "            AB=1.0-AA\n",
    "            DCPDX=DCPDX*AB*AB\n",
    "            \n",
    "            # calculate PHI from the velocity vector and use it to calculate ALPHA\n",
    "            PHI=np.arctan((1.0-AA)/(1.0+AT)/TSR/X)\n",
    "            A0=PHI-THETA\n",
    "            \n",
    "            DIFF=np.abs(A0-ALPHA)\n",
    "            A2=A1\n",
    "            A1=ALPHA\n",
    "            ALPHA=(1.0-MU)*ALPHA+MU*A0\n",
    "            \n",
    "            if ((ICOUNT == 5)  or (ICOUNT == 10)):\n",
    "                # Apply Aitken Extrapolator to esimate a likely final ALPHA value as an aid\n",
    "                # to selecting a suitable relaxation factor. See notes. \n",
    "                # MU re-estimated only at 5th and 10th iterations\n",
    "                A3=(ALPHA*A2-A1*A1)/(ALPHA-2.0*A1+A2)\n",
    "                # Reset relaxation factor, limiting the allowable range of values.\n",
    "                AMU=(A3-A1)/(A0-A1)\n",
    "                if (AMU > 2.0):\n",
    "                    AMU = 2.0   \n",
    "                elif (AMU < 0.4):\n",
    "                    AMU=0.4\n",
    "                MU=AMU\n",
    "                # Reset next ALPHA value\n",
    "                ALPHA=A3\n",
    "            ### end of if  \n",
    "             \n",
    "            if DIFF < 0.00001:\n",
    "                break\n",
    "    \n",
    "        # DCTDX=Derivative of Thrust coefficient from momentum    \n",
    "        DCTDX=8.0*X*K*AA*(1.0-AA)\n",
    "        \n",
    "        MCRITA = interp(ALPHA/np.pi*180,dataAero[:,0],dataAero[:,3])\n",
    "        if (MACH > MCRITA):\n",
    "            IMCRIT=IMCRIT+1\n",
    "        \n",
    "        # store the data for this section at this condition\n",
    "        DIFCP[IXCOUNT]=DCPDX\n",
    "        DIFCT[IXCOUNT]=DCTDX\n",
    "        ANGLE[IXCOUNT]=ALPHA\n",
    "        LIFT[IXCOUNT]=CLIFT\n",
    "        DRAG[IXCOUNT]=CDRAG\n",
    "        \n",
    "        PHIS[IXCOUNT] = PHI\n",
    "        AAXIAL[IXCOUNT] = AA\n",
    "        ATANG[IXCOUNT] = AT\n",
    "        GOLD[IXCOUNT] = K\n",
    "        MACHNO[IXCOUNT] = MACH\n",
    "        MCRITS[IXCOUNT] = MCRITA\n",
    "        \n",
    "        DIFFS[IXCOUNT] = DIFF\n",
    "    \"\"\"\n",
    "    # print a summary of the flow equilibrium found for this condition\n",
    "    outputString += '     X  |  PHI  |  A-AXIAL | A-TANG  |  GOLD  |  MACH   |  MCRIT  |  DIFF\\n'\n",
    "    for IXCOUNT in range(dataBlade.shape[0]):\n",
    "        outputString += '{:7.2f} {:7.2f} {:9.4f} {:9.4f} {:9.4f} {:9.4f} {:9.4f} {:9.6f}\\n'.format(dataBlade[IXCOUNT,0],PHIS[IXCOUNT]/np.pi*180.,\n",
    "            AAXIAL[IXCOUNT],ATANG[IXCOUNT],GOLD[IXCOUNT],MACHNO[IXCOUNT],MCRITS[IXCOUNT],DIFFS[IXCOUNT])\n",
    "        outputString += '\\n'\n",
    "    \n",
    "        outputString += '     X | AoA [deg] |   CL   |   CD   |  DCPDX  |  DCTDX\\n'\n",
    "    for IXCOUNT in range(dataBlade.shape[0]):\n",
    "        outputString += '{:7.2f} {:7.2f} {:10.4f} {:9.4f} {:9.4f} {:9.4f}\\n'.format(dataBlade[IXCOUNT,0],ANGLE[IXCOUNT]/np.pi*180.,\n",
    "            LIFT[IXCOUNT],DRAG[IXCOUNT],DIFCP[IXCOUNT],DIFCT[IXCOUNT])\n",
    "        outputString += '\\n'\n",
    "    \"\"\"\n",
    "    # integrate the coefficients to get turbine performance\n",
    "    CTHRUST = np.trapz(DIFCT,dB[:,0])\n",
    "    CPOWER = np.trapz(DIFCP,dB[:,0])\n",
    "    \n",
    "    return TSR,CTHRUST,CPOWER\n",
    " "
   ]
  },
  {
   "cell_type": "code",
   "execution_count": 7,
   "metadata": {},
   "outputs": [],
   "source": [
    "# find pitch angle for given TSR blade etc\n",
    "\n",
    "def find_pitch_angle(dB,dA,Bpitch,Maxpitch,cp_target,SF,NB,Dm,Vw,BRPM):\n",
    "    \"\"\" Pserachto find pitch angle that meets cp_target\n",
    "    simple algorithm that steps in 0.1 deg of pitch\n",
    "         Arguments\n",
    "        dB Data definig blade shape\n",
    "        dA Data defining section performance\n",
    "        Bpitch = initial blade pitch\n",
    "        SF = set scale factor\n",
    "        NB= number of blades\n",
    "        Dm- diameter in m\n",
    "        Vw=speed in m/s\n",
    "        BRPM = rate of rotation per minute\n",
    "               \n",
    "    Returns\n",
    "        found = boolean (1 = found , 0 if not)\n",
    "        new_pitch\n",
    "        \n",
    "    \"\"\"\n",
    "    search_inc = 0.01 # rad\n",
    "    FOUND = False\n",
    "    no_search = (int)((Maxpitch-Bpitch)/search_inc)\n",
    "    \n",
    "    for ic in range(no_search):\n",
    "        apitch = Bpitch + search_inc*ic\n",
    "        tsr,cp,ct = TurbinePerformance(dB,dA,apitch,SF,NB,Dm,Vw,BRPM)\n",
    "        if cp < cp_target:\n",
    "            FOUND = True\n",
    "            new_pitch = apitch*180.0/np.pi\n",
    "            break\n",
    "    return FOUND,new_pitch\n",
    "    \n",
    "    \n",
    "\n"
   ]
  },
  {
   "cell_type": "code",
   "execution_count": 8,
   "metadata": {},
   "outputs": [
    {
     "name": "stderr",
     "output_type": "stream",
     "text": [
      "C:\\Users\\tlemo\\AppData\\Local\\Temp/ipykernel_28384/1256137609.py:9: DeprecationWarning: `np.float` is a deprecated alias for the builtin `float`. To silence this warning, use `float` by itself. Doing this will not modify any behavior and is safe. If you specifically wanted the numpy scalar type, use `np.float64` here.\n",
      "Deprecated in NumPy 1.20; for more details and guidance: https://numpy.org/devdocs/release/1.20.0-notes.html#deprecations\n",
      "  dataAero = np.array(dataIn['aero']).astype(np.float)\n",
      "C:\\Users\\tlemo\\AppData\\Local\\Temp/ipykernel_28384/1256137609.py:10: DeprecationWarning: `np.float` is a deprecated alias for the builtin `float`. To silence this warning, use `float` by itself. Doing this will not modify any behavior and is safe. If you specifically wanted the numpy scalar type, use `np.float64` here.\n",
      "Deprecated in NumPy 1.20; for more details and guidance: https://numpy.org/devdocs/release/1.20.0-notes.html#deprecations\n",
      "  dataBlade = np.array(dataIn['blade']).astype(np.float)\n",
      "C:\\Users\\tlemo\\AppData\\Local\\Temp/ipykernel_28384/1256137609.py:11: DeprecationWarning: `np.float` is a deprecated alias for the builtin `float`. To silence this warning, use `float` by itself. Doing this will not modify any behavior and is safe. If you specifically wanted the numpy scalar type, use `np.float64` here.\n",
      "Deprecated in NumPy 1.20; for more details and guidance: https://numpy.org/devdocs/release/1.20.0-notes.html#deprecations\n",
      "  dataConditions = np.array(dataIn['conditions']).astype(np.float)\n"
     ]
    }
   ],
   "source": [
    "\n",
    "inputFilename = 'input1.txt'\n",
    "outputFilename = 'output2.txt'\n",
    "outputString = ''\n",
    "\n",
    "# read the input file\n",
    "dataIn,varsIn = readInputData(inputFilename)\n",
    "\n",
    "# convert data types\n",
    "dataAero = np.array(dataIn['aero']).astype(np.float)\n",
    "dataBlade = np.array(dataIn['blade']).astype(np.float)\n",
    "dataConditions = np.array(dataIn['conditions']).astype(np.float)\n",
    "Nblades = int(dataIn['Nblades'])\n",
    "D = float(dataIn['diameter'])\n",
    "SF = float(dataIn['scalefactor'])\n",
    "Uten = float(dataIn['Uten'])\n",
    "HH = float(dataIn['HubHeight'])\n",
    "\n",
    "\n",
    "\n"
   ]
  },
  {
   "cell_type": "markdown",
   "metadata": {},
   "source": [
    "\n",
    "* item lines above read in default values from input1.txt to alter design you need to uncomment lines below by removing hashtag \n",
    "\n",
    "* D = 120.0  # chosen design diameter of turbine (m)\n",
    "* HH = hub height of wind turbine above sea level, need to add in depth of wtaer to get total tower height above seabed\n"
   ]
  },
  {
   "cell_type": "code",
   "execution_count": 9,
   "metadata": {},
   "outputs": [
    {
     "name": "stdout",
     "output_type": "stream",
     "text": [
      "7.061761459072345  m/s\n"
     ]
    }
   ],
   "source": [
    "D=362.5 # m\n",
    "HH=206.8 # m\n",
    "clearance = HH - 0.5*D\n",
    "# clearance is minimum height blade is above sea level - obvs tsi need sto be high enough to allow safe pasage of vessels\n",
    "\n",
    "Uten=4.621 # m/s\n",
    "A=0.14* np.log(HH/10.0)\n",
    "vrated = Uten*np.exp(A)\n",
    "print(vrated,' m/s')\n",
    "\n",
    "# this determines the rated design speed for wind turbine\n",
    "# when using for tidal turbine need to remove hash tag and select apropriate max tidal speed for rated\n",
    "\n",
    "# vrated = 2.5 # speed in m/s for tidal assignment\n",
    "no_hours=365*24  # number of hours in a year\n",
    "CF=0.35 # a typical capacity factor"
   ]
  },
  {
   "cell_type": "code",
   "execution_count": 10,
   "metadata": {},
   "outputs": [
    {
     "name": "stdout",
     "output_type": "stream",
     "text": [
      "current tip chord is: 14.1375  m \n",
      " Scale Factor 0.7073386383731212  Gear Box ratio 241.93548387096774\n"
     ]
    }
   ],
   "source": [
    "select_clearance_limit = 25.0\n",
    "if clearance<select_clearance_limit :\n",
    "    outputString+=' Clearance {:6.1f} m not sufficient'.format(clearance)\n",
    "outputString += ' At rated Speed {:6.1f} ms-1 \\n'.format(vrated)\n",
    "\n",
    "VSOUND = 342.0 # m/s only if mach number check switched on to increase drag as mach 1 approached\n",
    "nAlphaItersMax = 20 # max no iterations on alpha loop\n",
    "\n",
    "Density_air=1.223 # kg/m^3\n",
    "Density_salt_water=1025.0 # kg/m^3\n",
    "# choose fluid density\n",
    "Density=Density_air\n",
    "# Density=Density_salt_water\n",
    "\n",
    "\n",
    "\n",
    "# choose operational conditions\n",
    "\n",
    "# D = 182.0 ### change this to a specific value of duiameter in m\n",
    "pitch= -1 #degrees dataConditions[0,1] # set pitch value to first one or enter own value\n",
    "RPM = 3.1  # dataConditions[0,2] # likewise here\n",
    "GBRatio=750/RPM\n",
    "Nblades = 3 # change number of blade\n",
    "ctipchord = D*dataBlade[dataBlade.shape[0]-1,1] \n",
    "print('current tip chord is:',ctipchord,' m ')\n",
    "actual_chord = 10 #  enter student value\n",
    "ScaleFactor = actual_chord/ctipchord\n",
    "print(' Scale Factor', ScaleFactor,' Gear Box ratio',GBRatio)\n",
    "\n",
    "## adjust geometry\n",
    "    \n",
    "\n",
    "   \n"
   ]
  },
  {
   "cell_type": "code",
   "execution_count": 11,
   "metadata": {},
   "outputs": [
    {
     "data": {
      "text/plain": [
       "[<matplotlib.lines.Line2D at 0x214e1c740d0>]"
      ]
     },
     "execution_count": 11,
     "metadata": {},
     "output_type": "execute_result"
    },
    {
     "data": {
      "image/png": "[encoded data removed]",
      "text/plain": [
       "<Figure size 432x288 with 1 Axes>"
      ]
     },
     "metadata": {
      "needs_background": "light"
     },
     "output_type": "display_data"
    },
    {
     "data": {
      "image/png": "[encoded data removed]",
      "text/plain": [
       "<Figure size 432x288 with 1 Axes>"
      ]
     },
     "metadata": {
      "needs_background": "light"
     },
     "output_type": "display_data"
    }
   ],
   "source": [
    "## influence of hub height on diameter for fixed power\n",
    "cp_assume = 0.46 # assuem a likely Cp max\n",
    "Prated=10000000.0 # rated power in watts\n",
    "Pturb=Prated/(0.965*0.985) # power needed\n",
    "Hi = np.zeros(50)\n",
    "V = np.zeros(50)\n",
    "Di = np.zeros(50)\n",
    "\n",
    "for ic in range(50):\n",
    "   Hi[ic]=50.0+ic*(250.0-50.0)/50.0\n",
    "   A=0.14* np.log(Hi[ic]/10.0)\n",
    "   V[ic] = Uten*np.exp(A)\n",
    "   Di[ic] = np.sqrt(Pturb/(cp_assume*0.125*Density*np.power(V[ic],3)*np.pi))\n",
    "\n",
    "plt.figure()\n",
    "plt.xlabel('Wind Speed at Hub Height (m/s)')\n",
    "plt.ylabel('Hub height above sea level (m) ')\n",
    "plt.plot(V,Hi)\n",
    "\n",
    "plt.figure()\n",
    "plt.ylabel('Hub Height (m)')\n",
    "plt.xlabel('Diameter required for rated power at hub height (m), for assumed Cp ')\n",
    "plt.plot(Di,Hi)"
   ]
  },
  {
   "cell_type": "markdown",
   "metadata": {},
   "source": [
    "Need to input in the next box the input values for the selected turbine design"
   ]
  },
  {
   "cell_type": "code",
   "execution_count": 12,
   "metadata": {},
   "outputs": [
    {
     "name": "stdout",
     "output_type": "stream",
     "text": [
      "Current Diameter  362.5  [m]\n",
      "Number of Blades 3 \n",
      "Current tip chord (m) 10\n",
      "Current pitch angle[deg] -1\n",
      "Current design [rpm] 3.1\n",
      "Current Hub Height 206.8  [m]\n",
      "Current rated speed  7.061761459072345  m/s\n",
      "Current clearance 25.55000000000001 [m]\n",
      "Current Rated Power 10.0  [MW]\n"
     ]
    }
   ],
   "source": [
    "print('Current Diameter ',D,' [m]')\n",
    "print('Number of Blades',Nblades,'')\n",
    "print('Current tip chord (m)',actual_chord)\n",
    "print('Current pitch angle[deg]',pitch)\n",
    "print('Current design [rpm]',RPM)\n",
    "print('Current Hub Height',HH,' [m]')\n",
    "print('Current rated speed ',vrated,' m/s')\n",
    "print('Current clearance', clearance,'[m]')\n",
    "print('Current Rated Power', Prated/1000000.0,' [MW]')"
   ]
  },
  {
   "cell_type": "code",
   "execution_count": 13,
   "metadata": {},
   "outputs": [
    {
     "name": "stdout",
     "output_type": "stream",
     "text": [
      "  Wind :   Pitch :  rpm:  TSR:  Cp:  Ct  Power (MW): \n",
      "  speed    [deg]          coeff     coeff    [N]     power \n",
      "  [m/s]\n",
      "   0.510  -1.000     3.1  115.325  -0.0000  0.0000  -0.0000\n",
      "   1.020  -1.000     3.1  57.663  -0.8617  0.0704  -0.0578\n",
      "   1.531  -1.000     3.1  38.442  -0.3395  0.1788  -0.0768\n",
      "   2.041  -1.000     3.1  28.831  -0.1155  0.3216  -0.0619\n",
      "   2.551  -1.000     3.1  23.065  0.0839  0.4033  0.0880\n",
      "   3.061  -1.000     3.1  19.221  0.1680  0.4535  0.3042\n",
      "   3.571  -1.000     3.1  16.475  0.2171  0.4995  0.6242\n",
      "   4.082  -1.000     3.1  14.416  0.2887  0.6498  1.2387\n",
      "   4.592  -1.000     3.1  12.814  0.3678  0.7684  2.2475\n",
      "   5.102  -1.000     3.1  11.533  0.4146  0.7791  3.4751\n",
      "   5.612  -1.000     3.1  10.484  0.4375  0.7695  4.8806\n",
      "   6.122  -1.000     3.1   9.610  0.4488  0.7535  6.5002\n",
      "   6.633  -1.000     3.1   8.871  0.4533  0.7357  8.3476\n",
      "   7.143  -1.000     3.1   8.238  0.4536  0.7190  10.4337\n",
      "   7.653  -1.000     3.1   7.688  0.4463  0.6949  12.6255\n",
      "   8.163  -1.000     3.1   7.208  0.4439  0.6817  15.2405\n",
      "   8.673  -1.000     3.1   6.784  0.4407  0.6682  18.1468\n",
      "   9.184  -1.000     3.1   6.407  0.4363  0.6541  21.3268\n",
      "   9.694  -1.000     3.1   6.070  0.4106  0.6029  23.6071\n",
      "  10.204  -1.000     3.1   5.766  0.4055  0.5888  27.1919\n",
      "  10.714  -1.000     3.1   5.492  0.3862  0.5455  29.9749\n",
      "  11.224  -1.000     3.1   5.242  0.3636  0.5124  32.4489\n",
      "  11.735  -1.000     3.1   5.014  0.3468  0.4757  35.3703\n",
      "  12.245  -1.000     3.1   4.805  0.3118  0.4274  36.1321\n",
      "  12.755  -1.000     3.1   4.613  0.3044  0.4115  39.8614\n",
      "  13.265  -1.000     3.1   4.436  0.2733  0.3596  40.2583\n",
      "  13.776  -1.000     3.1   4.271  0.2426  0.3183  40.0267\n",
      "  14.286  -1.000     3.1   4.119  0.2105  0.2700  38.7393\n",
      "  14.796  -1.000     3.1   3.977  0.1955  0.2479  39.9557\n",
      "  15.306  -1.000     3.1   3.844  0.1581  0.1983  35.7774\n",
      "  15.816  -1.000     3.1   3.720  0.1367  0.1695  34.1303\n",
      "  16.327  -1.000     3.1   3.604  0.1197  0.1456  32.8794\n",
      "  16.837  -1.000     3.1   3.495  0.0879  0.1063  26.4893\n",
      "  17.347  -1.000     3.1   3.392  0.0737  0.0895  24.2938\n",
      "  17.857  -1.000     3.1   3.295  0.0642  0.0774  23.0584\n",
      "  18.367  -1.000     3.1   3.203  0.0454  0.0543  17.7658\n",
      "  18.878  -1.000     3.1   3.117  0.0345  0.0417  14.6311\n",
      "  19.388  -1.000     3.1   3.035  0.0300  0.0364  13.7869\n",
      "  19.898  -1.000     3.1   2.957  0.0264  0.0322  13.1344\n",
      "  20.408  -1.000     3.1   2.883  0.0199  0.0249  10.6724\n",
      "  20.918  -1.000     3.1   2.813  0.0173  0.0220  10.0082\n",
      "  21.429  -1.000     3.1   2.746  0.0156  0.0199  9.6680\n",
      "  21.939  -1.000     3.1   2.682  0.0153  0.0196  10.2257\n",
      "  22.449  -1.000     3.1   2.621  0.0146  0.0187  10.4566\n",
      "  22.959  -1.000     3.1   2.563  0.0139  0.0177  10.5875\n",
      "  23.469  -1.000     3.1   2.507  0.0133  0.0173  10.8430\n",
      "  23.980  -1.000     3.1   2.454  0.0127  0.0163  11.0750\n",
      "  24.490  -1.000     3.1   2.403  0.0122  0.0156  11.3072\n",
      "  25.000  -1.000     3.1   2.354  0.0117  0.0150  11.5309\n",
      "  25.510  -1.000     3.1   2.307  0.0113  0.0144  11.7966\n",
      "\n"
     ]
    },
    {
     "data": {
      "image/png": "[encoded data removed]",
      "text/plain": [
       "<Figure size 432x288 with 1 Axes>"
      ]
     },
     "metadata": {
      "needs_background": "light"
     },
     "output_type": "display_data"
    }
   ],
   "source": [
    "# Calculate non-dimensional turbine performance \n",
    "outputString = ''\n",
    "outputString += '  Wind : '\n",
    "outputString += '  Pitch :'\n",
    "outputString += '  rpm:'\n",
    "outputString += '  TSR: '\n",
    "outputString += ' Cp: '\n",
    "outputString += ' Ct '\n",
    "outputString += ' Power (MW): '\n",
    "outputString += '\\n'\n",
    "outputString += '  speed    [deg]          coeff     coeff    [N]     power \\n'\n",
    "outputString += '  [m/s]' \n",
    "outputString += '\\n'\n",
    "\n",
    "V_min = 0.0 # minimum wind or tide speed\n",
    "V_max = 25.0 # maximum wind or tide speed\n",
    "No_Int = 50 # assess performance at tshi number of values\n",
    "dV=(V_max-V_min)/(No_Int-1)\n",
    "TSRs=np.zeros(No_Int)\n",
    "Cps=np.zeros(No_Int)\n",
    "Cts=np.zeros(No_Int)\n",
    "Pws=np.zeros(No_Int)\n",
    "Thr = np.zeros(No_Int)\n",
    "Vs = np.zeros(No_Int)\n",
    "\n",
    "for ic in range(No_Int):\n",
    "    VWIND=V_min+(ic+1)*dV # find each w​for ic in range(No_Int):\n",
    "    Vs[ic] = VWIND\n",
    "    \n",
    "    TSRs[ic],Cts[ic],Cps[ic] = TurbinePerformance(dataBlade,dataAero,pitch*np.pi/180.0,ScaleFactor,Nblades,D,VWIND,RPM)\n",
    "    # dimensional power take off values\n",
    "    FCTOR1=Density*np.pi*D*D*VWIND*VWIND/8.0\n",
    "    Pws[ic] = Cps[ic]*FCTOR1*VWIND\n",
    "    Thr[ic] = Cts[ic]*FCTOR1\n",
    "    # output data\n",
    "    # outputString += '  Overall performance data\\n'\n",
    "    outputString += '  {:6.3f}'.format(VWIND)\n",
    "    outputString += '  {:6.3f}'.format(pitch)\n",
    "    outputString += '  {:6.1f}'.format(RPM)\n",
    "    outputString += '  {:6.3f}'.format(TSRs[ic])\n",
    "    outputString += '  {:.4f}'.format(Cps[ic])\n",
    "    outputString += '  {:.4f}'.format(Cts[ic])\n",
    "    outputString += '  {:.4f}'.format(Pws[ic]/1000000.0) # units are MW\n",
    "    outputString += '\\n'\n",
    " \n",
    "## now try plotting some stuff\n",
    "plt.figure()\n",
    "plt.axis([0, 25.0, 0 , 0.6])\n",
    "plt.plot(TSRs,Cps)\n",
    "plt.title('Power Coefficient vs tip speed ratio ')\n",
    "plt.xlabel('Tip Speed Ratio')\n",
    "plt.ylabel('Cp')\n",
    "##\n",
    "print(outputString) # switched off output\n",
    "with open(outputFilename,\"w\") as f:\n",
    "    f.write(outputString)  "
   ]
  },
  {
   "cell_type": "markdown",
   "metadata": {},
   "source": [
    "The cell below was used to iteratively find the optimal RPM"
   ]
  },
  {
   "cell_type": "code",
   "execution_count": 14,
   "metadata": {},
   "outputs": [
    {
     "name": "stdout",
     "output_type": "stream",
     "text": [
      "8.332115542116904\n",
      "Max Cp is: 0.45364880577896627\n",
      "Cp at Umean is: 0.45359870044706124\n",
      "8.237517737100235\n",
      "3.064804473237398\n"
     ]
    }
   ],
   "source": [
    "TSRU = (np.pi*(RPM/60)*(D))/vrated\n",
    "print(TSRU)\n",
    "print(f'Max Cp is: {max(Cps)}')\n",
    "Cpsint = interp1d(TSRs, Cps)\n",
    "print(f'Cp at Umean is: {Cpsint(TSRU)}')\n",
    "TSRsint = interp1d(Cps, TSRs)\n",
    "TSRmax = TSRsint(max(Cps))\n",
    "print(TSRmax)\n",
    "Nnew = (TSRmax*vrated)/(np.pi*D)\n",
    "print(Nnew*60)"
   ]
  },
  {
   "cell_type": "code",
   "execution_count": 15,
   "metadata": {},
   "outputs": [
    {
     "data": {
      "text/plain": [
       "[<matplotlib.lines.Line2D at 0x214e1e1dfa0>]"
      ]
     },
     "execution_count": 15,
     "metadata": {},
     "output_type": "execute_result"
    },
    {
     "data": {
      "image/png": "[encoded data removed]",
      "text/plain": [
       "<Figure size 432x288 with 1 Axes>"
      ]
     },
     "metadata": {
      "needs_background": "light"
     },
     "output_type": "display_data"
    }
   ],
   "source": [
    "plt.plot(Vs, Pws)\n",
    "#plt.axis([0, 5, -2 , 10])"
   ]
  },
  {
   "cell_type": "markdown",
   "metadata": {},
   "source": [
    "# Pitch Angle for Rated Speed\n",
    "The following is an ammendment to the initial code which iteratively searches for the required pitch angle to achieve rated power above rated speed"
   ]
  },
  {
   "cell_type": "code",
   "execution_count": null,
   "metadata": {},
   "outputs": [],
   "source": [
    "# Calculate non-dimensional turbine performance \n",
    "outputString = ''\n",
    "outputString += '  Wind : '\n",
    "outputString += '  Pitch :'\n",
    "outputString += '  rpm:'\n",
    "outputString += '  TSR: '\n",
    "outputString += ' Cp: '\n",
    "outputString += ' Ct '\n",
    "outputString += ' Power (MW): '\n",
    "outputString += '\\n'\n",
    "outputString += '  speed    [deg]          coeff     coeff    [N]     power \\n'\n",
    "outputString += '  [m/s]' \n",
    "outputString += '\\n'\n",
    "\n",
    "V_min = 0.0 # minimum wind or tide speed\n",
    "V_max = 20.0 # maximum wind or tide speed\n",
    "No_Int = 100 # assess performance at tshi number of values\n",
    "dV=(V_max-V_min)/(No_Int-1)\n",
    "TSRs=np.zeros(No_Int)\n",
    "Cps=np.zeros(No_Int)\n",
    "Cts=np.zeros(No_Int)\n",
    "Pws=np.zeros(No_Int)\n",
    "pitchNEW = 0\n",
    "TSRnew = 0\n",
    "Ctnew = 0\n",
    "Cpnew = 0\n",
    "gen_eff = 0.965\n",
    "gbox_eff = 0.985\n",
    "\n",
    "Prated = 10000000 # W\n",
    "Pturb = Prated/(gen_eff*gbox_eff)\n",
    "pitches = []\n",
    "pitches2 = []\n",
    "Vs = []\n",
    "\n",
    "for ic in range(No_Int):\n",
    "    VWIND=V_min+(ic+1)*dV # find each w​for ic in range(No_Int):\n",
    "   \n",
    "    TSRs[ic],Cts[ic],Cps[ic] = TurbinePerformance(dataBlade,dataAero,pitch*np.pi/180.0,ScaleFactor,Nblades,D,VWIND,RPM)\n",
    "    # dimensional power take off values\n",
    "    FCTOR1=Density*np.pi*D*D*VWIND*VWIND/8.0\n",
    "    Pws[ic] = Cps[ic]*FCTOR1*VWIND\n",
    "    # output data\n",
    "    # outputString += '  Overall performance data\\n'\n",
    "    outputString += '  {:6.3f}'.format(VWIND)\n",
    "    outputString += '  {:6.3f}'.format(pitch)\n",
    "    outputString += '  {:6.1f}'.format(RPM)\n",
    "    outputString += '  {:6.3f}'.format(TSRs[ic])\n",
    "    outputString += '  {:.4f}'.format(Cps[ic])\n",
    "    outputString += '  {:.4f}'.format(Cts[ic])\n",
    "    outputString += '  {:.4f}'.format(Pws[ic]/1000000.0) # units are MW\n",
    "    outputString += '\\n'\n",
    "    \n",
    "    pitchNEW = pitch\n",
    "    \n",
    "    \n",
    "    while Pws[ic] > Pturb:\n",
    "        pitchNEW = pitchNEW + 0.01\n",
    "        TSRnew,Cts[ic],Cpnew = TurbinePerformance(dataBlade,dataAero,pitchNEW*np.pi/180.0,ScaleFactor,Nblades,D,VWIND,RPM)\n",
    "        Pws[ic] = Cpnew*FCTOR1*VWIND\n",
    "        \n",
    "    if Pws[ic]<10400000 and VWIND>7.5:\n",
    "        pitchint = interp1d(Vs,pitches2,fill_value='extrapolate')\n",
    "        pitchNEW = pitchint(VWIND)\n",
    "        TSRnew,Cts[ic],Cpnew = TurbinePerformance(dataBlade,dataAero,pitchNEW*np.pi/180.0,ScaleFactor,Nblades,D,VWIND,RPM)\n",
    "        Pws[ic] = Cpnew*FCTOR1*VWIND\n",
    "        while Pws[ic] < 10400000 or Pws[ic] > 10600000:\n",
    "            pslim = pitchNEW\n",
    "            ps = np.arange(0,90,0.001)\n",
    "            for i in ps:\n",
    "                pitchNEW = i\n",
    "                TSRnew,Cts[ic],Cpnew = TurbinePerformance(dataBlade,dataAero,pitchNEW*np.pi/180.0,ScaleFactor,Nblades,D,VWIND,RPM)\n",
    "                Pws[ic] = Cpnew*FCTOR1*VWIND\n",
    "                if Pws[ic] > 10400000 and Pws[ic] < 10600000:\n",
    "                    break\n",
    "            '''\n",
    "            if Pws[ic] < 10400000:\n",
    "                pitchNEW = pitchNEW - 0.0001\n",
    "                TSRnew,Ctnew,Cpnew = TurbinePerformance(dataBlade,dataAero,pitchNEW*np.pi/180.0,ScaleFactor,Nblades,D,VWIND,RPM)\n",
    "                Pws[ic] = Cpnew*FCTOR1*VWIND\n",
    "            if Pws[ic] > 10600000:\n",
    "                pitchNEW = pitchNEW + 0.00011\n",
    "                TSRnew,Ctnew,Cpnew = TurbinePerformance(dataBlade,dataAero,pitchNEW*np.pi/180.0,ScaleFactor,Nblades,D,VWIND,RPM)\n",
    "                Pws[ic] = Cpnew*FCTOR1*VWIND\n",
    "                print(pitchNEW)\n",
    "                '''\n",
    "    print(f'Pitch at V = {VWIND} is: {pitchNEW}')\n",
    "    pitches.append(pitchNEW)\n",
    "    if VWIND>7.3:\n",
    "        Vs.append(VWIND)\n",
    "        pitches2.append(pitchNEW)\n",
    "        \n",
    "## now try plotting some stuff\n",
    "plt.figure()\n",
    "plt.axis([0, 25.0, 0 , 0.6])\n",
    "plt.plot(TSRs,Cps)\n",
    "plt.title('Power Coefficient vs tip speed ratio ')\n",
    "plt.xlabel('Tip Speed Ratio')\n",
    "plt.ylabel('Cp')\n",
    "##\n",
    "print(outputString) # switched off output\n",
    "with open(outputFilename,\"w\") as f:\n",
    "    f.write(outputString)  "
   ]
  },
  {
   "cell_type": "code",
   "execution_count": null,
   "metadata": {},
   "outputs": [],
   "source": [
    "def Pshift2(V_min, V_max, No_Int, cut_in=2.6, P=Pws, Pturb=Pturb, vrated=vrated):\n",
    "    dV=(V_max-V_min)/(No_Int-1)\n",
    "    vc=np.zeros(No_Int)\n",
    "    Pws_new=np.zeros(No_Int)\n",
    "    for ic in range(No_Int):\n",
    "        vc[ic] = V_min+(ic+1)*dV\n",
    "        if vc[ic]<=cut_in:\n",
    "            Pws_new[ic]=0\n",
    "        else:\n",
    "            Pws_new[ic] = P[ic-1]\n",
    "        \n",
    "    return(Pws_new)\n",
    "\n",
    "powers = Pshift(0,20,100)"
   ]
  },
  {
   "cell_type": "markdown",
   "metadata": {},
   "source": [
    "The following cell outputs the power profile and pitch profile graph, indicating cut-in, cut-out and rated speed."
   ]
  },
  {
   "cell_type": "code",
   "execution_count": null,
   "metadata": {},
   "outputs": [],
   "source": [
    "fig, ax1 = plt.subplots()\n",
    "\n",
    "ax2 = ax1.twinx()\n",
    "ax1.axvline(x=vrated, color='coral')\n",
    "ax1.axvline(x=2.6, color='coral')\n",
    "ax1.axvline(x=20, color='coral')\n",
    "#ax1.axhline(y=Pturb/1e6)\n",
    "ax1.plot(V+dV, Pws/1e6, label='Power', color='blue')\n",
    "ax2.plot(V+dV, pitches, 'g-', label='Pitch angle')\n",
    "\n",
    "ax1.set_xlabel('Wind Speed (m/s)')\n",
    "ax1.set_ylabel('Power (MW)', color='blue')\n",
    "ax2.set_ylabel('Pitch angle (degrees)', color='g')\n",
    "plt.text(1.5, 28.5, 'Cut-in \\nspeed', fontsize=10, bbox=dict(facecolor='red', alpha=0.3))\n",
    "plt.text(5.9, 28.5, 'Rated \\nspeed', fontsize=10, bbox=dict(facecolor='red', alpha=0.3))\n",
    "plt.text(18.5, 28.5, 'Cut-out \\nspeed', fontsize=10, bbox=dict(facecolor='red', alpha=0.3))\n",
    "\n",
    "plt.title('')\n",
    "\n",
    "\n"
   ]
  },
  {
   "cell_type": "code",
   "execution_count": null,
   "metadata": {},
   "outputs": [],
   "source": [
    "V = np.linspace(0,20,100)\n",
    "plt.axis([0, 25.0, 0 , 1.1e7])\n",
    "plt.plot(V,Pws)\n",
    "plt.axvline(x=7.061761459072345  )\n",
    "#print(Pws)"
   ]
  },
  {
   "cell_type": "code",
   "execution_count": null,
   "metadata": {},
   "outputs": [],
   "source": [
    "plt.plot(V,pitches)\n",
    "plt.axis([2.6, 20.0, -2 , 30])\n",
    "plt.xlabel('Wind Speed (m/s)')\n",
    "plt.ylabel('Pitch Angle (degrees)')\n",
    "plt.title('Pitch Angle vs Wind Speed between cut-in and cut-out speeds')\n"
   ]
  },
  {
   "cell_type": "code",
   "execution_count": null,
   "metadata": {},
   "outputs": [],
   "source": [
    "PwrR = []\n",
    "count = 0\n",
    "for i in V:\n",
    "    if i >= vrated and i<=19.7:\n",
    "        PwrR.append(Pws[count])\n",
    "    count += 1\n",
    "#print(PwrR)\n",
    "std = statistics.stdev(PwrR, Pturb)\n",
    "print(std)"
   ]
  },
  {
   "cell_type": "code",
   "execution_count": null,
   "metadata": {},
   "outputs": [],
   "source": [
    "# Examine power capture behaviour\n",
    "# Define Cut in speed\n",
    "# Define cut out speed\n",
    "# operational conditions, change these value for tidal turbine and to see how they \n",
    "\n",
    "V_cutin = 2.6 # m/s    \n",
    "V_cutout = 20.0 #m/s\n",
    "\n",
    "#  generator + gearbox _efficiency\n",
    "gen_eff = 0.965\n",
    "gbox_eff = 0.985\n",
    "\n",
    "# rated power\n",
    "Prated = 10000000 # W\n",
    "Pturb = Prated/(gen_eff*gbox_eff)\n",
    "\n",
    "vc=np.zeros(No_Int)\n",
    "rc=np.zeros(No_Int)\n",
    "for ic in range(No_Int):\n",
    "    vc[ic]=V_min+(ic+1)*dV # find each w for ic in range(No_Int):\n",
    "    rc[ic]=Rayleigh(vc[ic],vrated)\n",
    "    if vc[ic] < V_cutin:\n",
    "        Pws[ic] = 0.0\n",
    "    elif vc[ic] >= V_cutout:\n",
    "        Pws[ic] = 0.0\n",
    "    elif Pws[ic] > Pturb:\n",
    "        Pws[ic] = Pturb\n",
    "\n",
    "plt.figure()\n",
    "plt.axis([0, V_max, 0 , 1.2*Pturb])\n",
    "plt.plot(vc,Pws)\n",
    "plt.title('Wind speed vs Regulated Power output ')\n",
    "plt.xlabel('Wind Speed (m/s)')\n",
    "plt.ylabel('MW')   \n",
    "\n",
    "plt.figure()\n",
    "plt.axis([0, V_max, 0 , 0.1])\n",
    "plt.plot(vc,rc)\n",
    "plt.title('Wind speed vs Rayleight probability ')\n",
    "plt.xlabel('Wind Speed (m/s)')\n",
    "plt.ylabel('f(V)')   "
   ]
  },
  {
   "cell_type": "markdown",
   "metadata": {},
   "source": [
    "The following function alters the power values slightly to ensure below cut-in the power is zero and above rated speed the power is rated power"
   ]
  },
  {
   "cell_type": "code",
   "execution_count": null,
   "metadata": {},
   "outputs": [],
   "source": [
    "def Pshift(V_min, V_max, No_Int, cut_in=2.6, P=Pws, Pturb=Pturb, vrated=vrated):\n",
    "    dV=(V_max-V_min)/(No_Int-1)\n",
    "    vc=np.zeros(No_Int)\n",
    "    Pws_new=np.zeros(No_Int)\n",
    "    for ic in range(No_Int):\n",
    "        vc[ic] = V_min+(ic+1)*dV\n",
    "        if vc[ic]<cut_in:\n",
    "            Pws_new[ic]=0\n",
    "        elif vc[ic]>=cut_in and vc[ic]<vrated:\n",
    "            Pws_new[ic]=P[ic]\n",
    "        elif vc[ic]>=vrated:\n",
    "            Pws_new[ic] = Pturb\n",
    "    return(Pws_new)"
   ]
  },
  {
   "cell_type": "markdown",
   "metadata": {},
   "source": [
    "The following cell defines the Weibull distribution used for energy capture calculations"
   ]
  },
  {
   "cell_type": "code",
   "execution_count": null,
   "metadata": {},
   "outputs": [],
   "source": [
    "def Weibull(U, Uhat=vrated):\n",
    "    exp = np.exp(-np.pi*(U/(2*Uhat))**2)\n",
    "    frac = (np.pi*U)/(2*Uhat**2)\n",
    "    f = frac*exp\n",
    "    return(f)"
   ]
  },
  {
   "cell_type": "markdown",
   "metadata": {},
   "source": [
    "The following cell determines the probability of a wind speed above 20m/s occuring"
   ]
  },
  {
   "cell_type": "code",
   "execution_count": null,
   "metadata": {},
   "outputs": [],
   "source": [
    "V_min = 0.0 # minimum wind or tide speed\n",
    "V_max = 10000 # maximum wind or tide speed\n",
    "No_Int = 10000 # assess performance at tshi number of values\n",
    "dV=(V_max-V_min)/(No_Int-1)\n",
    "vc=np.zeros(No_Int)\n",
    "W=np.zeros(No_Int)\n",
    "cum = 0\n",
    "for ic in range(No_Int):\n",
    "    vc[ic]=V_min+(ic+1)*dV # find each w for ic in range(No_Int):\n",
    "    W[ic]=Weibull(vc[ic],vrated)\n",
    "    if vc[ic] >=20:\n",
    "        cum = cum + W[ic]\n",
    "\n",
    "print(cum*100)"
   ]
  },
  {
   "cell_type": "markdown",
   "metadata": {},
   "source": [
    "The following cell defines the function used for energy capture calculations using the Weibull distribution"
   ]
  },
  {
   "cell_type": "code",
   "execution_count": null,
   "metadata": {},
   "outputs": [],
   "source": [
    "def EnergyCap(V_max, V_min, Pws=Pws, T=1, No_Int=100, gen_eff=0.965, gbox_eff=0.985):\n",
    "    P = Pshift(V_min, V_max, No_Int, P=Pws)\n",
    "    Pcum = 0\n",
    "    dV=(V_max-V_min)/(No_Int-1)\n",
    "    vc=np.zeros(No_Int)\n",
    "    hrs = T*365*24\n",
    "    for ic in range(No_Int):\n",
    "        vc[ic]=V_min+(ic+1)*dV\n",
    "        Pu = (P[ic]*gen_eff*gbox_eff)*Weibull(vc[ic])*dV\n",
    "        Pcum = Pcum + Pu\n",
    "    E = hrs*Pcum\n",
    "    return(E)"
   ]
  },
  {
   "cell_type": "code",
   "execution_count": null,
   "metadata": {},
   "outputs": [],
   "source": [
    "energy = EnergyCap(20, 0, No_Int=100)\n",
    "print(energy/1e9) # Print the expected energy capture in GWh"
   ]
  },
  {
   "cell_type": "markdown",
   "metadata": {},
   "source": [
    "The following cell reads the 2019 wind speed data and takes out only the component of wind speed in the downstream direction, with those +/- 90 degrees of the wind turbine orientation being set to 0"
   ]
  },
  {
   "cell_type": "code",
   "execution_count": null,
   "metadata": {},
   "outputs": [],
   "source": [
    "lines = []\n",
    "windDir = 247.5\n",
    "upper = windDir + 90\n",
    "lower = windDir - 90\n",
    "speeds = []\n",
    "\n",
    "with open('2019Wind.csv', 'r') as wind:\n",
    "    lines = wind.readlines()\n",
    "for line in lines:\n",
    "    split = line.split(',')\n",
    "    Uwind = float(split[0])\n",
    "    Dir = float(split[1])\n",
    "    if Dir>upper or Dir<lower:\n",
    "        speeds.append(0)\n",
    "    else:\n",
    "        angle = ((Dir-windDir)*np.pi)/180\n",
    "        speeds.append(Uwind*np.cos(angle))\n"
   ]
  },
  {
   "cell_type": "markdown",
   "metadata": {},
   "source": [
    "Computes the speeds at hub height"
   ]
  },
  {
   "cell_type": "code",
   "execution_count": null,
   "metadata": {},
   "outputs": [],
   "source": [
    "speedsHH = []\n",
    "for speed in speeds:\n",
    "    speed = speed*np.exp(A)\n",
    "    speedsHH.append(speed)"
   ]
  },
  {
   "cell_type": "markdown",
   "metadata": {},
   "source": [
    "The following cell finds the probability of 100 wind speed ranges for the 2019 wind speed data"
   ]
  },
  {
   "cell_type": "code",
   "execution_count": null,
   "metadata": {},
   "outputs": [],
   "source": [
    "hist, bins = np.histogram(speedsHH, bins=100)\n",
    "hist = hist/np.sum(hist)\n",
    "bin_width = bins[1]-bins[0]\n",
    "probs = []\n",
    "speedsHH = sorted(speedsHH)\n",
    "for speed in speedsHH:\n",
    "    bin_idx = int((speed-bins[0])/bin_width)\n",
    "    prob = hist[bin_idx-1]\n",
    "    probs.append(prob)"
   ]
  },
  {
   "cell_type": "code",
   "execution_count": null,
   "metadata": {},
   "outputs": [],
   "source": [
    "plt.plot(speedsHH,probs)"
   ]
  },
  {
   "cell_type": "markdown",
   "metadata": {},
   "source": [
    "A function is defined to determine the probability of a given wind speed occuring within a given wind speed dataset"
   ]
  },
  {
   "cell_type": "code",
   "execution_count": null,
   "metadata": {},
   "outputs": [],
   "source": [
    "def probability(speed, data=speedsHH):\n",
    "    hist, bins = np.histogram(data, bins=100)\n",
    "    hist = hist/np.sum(hist)\n",
    "    bin_width = bins[1]-bins[0]\n",
    "    bin_idx = int((speed-bins[0])/bin_width)\n",
    "    prob = hist[bin_idx]\n",
    "    return(prob)"
   ]
  },
  {
   "cell_type": "markdown",
   "metadata": {},
   "source": [
    "The following defines a function to determine the energy capture of one turbine using the realistic probability distribution"
   ]
  },
  {
   "cell_type": "code",
   "execution_count": null,
   "metadata": {},
   "outputs": [],
   "source": [
    "def EnergyCap2(V_max, V_min, Pws=Pws, T=1, No_Int=100, gen_eff=0.965, gbox_eff=0.985, data=speedsHH):\n",
    "    P = Pshift(V_min, V_max, No_Int, P=Pws)\n",
    "    Pcum = 0\n",
    "    dV=(V_max-V_min)/(No_Int-1)\n",
    "    vc=np.zeros(No_Int)\n",
    "    hrs = T*365*24\n",
    "    for ic in range(No_Int):\n",
    "        vc[ic]=V_min+(ic+1)*dV\n",
    "        Pu = (P[ic]*gen_eff*gbox_eff)*probability(vc[ic],data=data)*dV\n",
    "        Pcum = Pcum + Pu\n",
    "    E = hrs*Pcum\n",
    "    return(E/1e9)"
   ]
  },
  {
   "cell_type": "code",
   "execution_count": null,
   "metadata": {},
   "outputs": [],
   "source": [
    "EnergyCap2(20, 0, No_Int=100)"
   ]
  },
  {
   "cell_type": "markdown",
   "metadata": {},
   "source": [
    "The Ct distribution against wind speed is determined, and from this a function is defined to determine the wind speed loss due to wake interaction for a given wind speed"
   ]
  },
  {
   "cell_type": "code",
   "execution_count": null,
   "metadata": {},
   "outputs": [],
   "source": [
    "CtInt = interp1d(V,Cts,fill_value='extrapolate')\n",
    "def deltaV(U):\n",
    "    speedsNEW = []\n",
    "    for i in U:\n",
    "        Ct = np.abs(CtInt(i))\n",
    "        deltaV = i*(1-np.sqrt(1-Ct))*(1/((1+2*0.04*6))**2)\n",
    "        speednew = i-deltaV\n",
    "        speedsNEW.append(speednew)\n",
    "    return(speedsNEW)\n",
    "Ctrated = CtInt(vrated)\n",
    "Thrust = (1/8)*Ctrated*1.223*vrated*vrated*np.pi*D*D\n",
    "print(Thrust)"
   ]
  },
  {
   "cell_type": "markdown",
   "metadata": {},
   "source": [
    "The speed datasets are modified for each layer of turbines in the array, i.e. turbines with more turbines in front of them will experience lower wind speeds"
   ]
  },
  {
   "cell_type": "code",
   "execution_count": null,
   "metadata": {},
   "outputs": [],
   "source": [
    "speedsHH2 = deltaV(speedsHH)\n",
    "speedsHH3 = deltaV(speedsHH2)\n",
    "speedsHH4 = deltaV(speedsHH3)\n",
    "speedsHH5 = deltaV(speedsHH4)\n",
    "speedsHH6 = deltaV(speedsHH5)\n",
    "speedsHH7 = deltaV(speedsHH6)"
   ]
  },
  {
   "cell_type": "markdown",
   "metadata": {},
   "source": [
    "The energy capture is determined for turbines at each layer within the array"
   ]
  },
  {
   "cell_type": "code",
   "execution_count": 16,
   "metadata": {},
   "outputs": [
    {
     "ename": "NameError",
     "evalue": "name 'EnergyCap2' is not defined",
     "output_type": "error",
     "traceback": [
      "\u001b[1;31m---------------------------------------------------------------------------\u001b[0m",
      "\u001b[1;31mNameError\u001b[0m                                 Traceback (most recent call last)",
      "\u001b[1;32m~\\AppData\\Local\\Temp/ipykernel_28384/948480364.py\u001b[0m in \u001b[0;36m<module>\u001b[1;34m\u001b[0m\n\u001b[1;32m----> 1\u001b[1;33m \u001b[0mEnergy1\u001b[0m \u001b[1;33m=\u001b[0m \u001b[0mEnergyCap2\u001b[0m\u001b[1;33m(\u001b[0m\u001b[1;36m20\u001b[0m\u001b[1;33m,\u001b[0m\u001b[1;36m0\u001b[0m\u001b[1;33m,\u001b[0m\u001b[0mdata\u001b[0m\u001b[1;33m=\u001b[0m\u001b[0mspeedsHH\u001b[0m\u001b[1;33m)\u001b[0m\u001b[1;33m\u001b[0m\u001b[1;33m\u001b[0m\u001b[0m\n\u001b[0m\u001b[0;32m      2\u001b[0m \u001b[0mEnergy2\u001b[0m \u001b[1;33m=\u001b[0m \u001b[0mEnergyCap2\u001b[0m\u001b[1;33m(\u001b[0m\u001b[1;36m20\u001b[0m\u001b[1;33m,\u001b[0m\u001b[1;36m0\u001b[0m\u001b[1;33m,\u001b[0m\u001b[0mdata\u001b[0m\u001b[1;33m=\u001b[0m\u001b[0mspeedsHH2\u001b[0m\u001b[1;33m)\u001b[0m\u001b[1;33m\u001b[0m\u001b[1;33m\u001b[0m\u001b[0m\n\u001b[0;32m      3\u001b[0m \u001b[0mEnergy3\u001b[0m \u001b[1;33m=\u001b[0m \u001b[0mEnergyCap2\u001b[0m\u001b[1;33m(\u001b[0m\u001b[1;36m20\u001b[0m\u001b[1;33m,\u001b[0m\u001b[1;36m0\u001b[0m\u001b[1;33m,\u001b[0m\u001b[0mdata\u001b[0m\u001b[1;33m=\u001b[0m\u001b[0mspeedsHH3\u001b[0m\u001b[1;33m)\u001b[0m\u001b[1;33m\u001b[0m\u001b[1;33m\u001b[0m\u001b[0m\n\u001b[0;32m      4\u001b[0m \u001b[0mEnergy4\u001b[0m \u001b[1;33m=\u001b[0m \u001b[0mEnergyCap2\u001b[0m\u001b[1;33m(\u001b[0m\u001b[1;36m20\u001b[0m\u001b[1;33m,\u001b[0m\u001b[1;36m0\u001b[0m\u001b[1;33m,\u001b[0m\u001b[0mdata\u001b[0m\u001b[1;33m=\u001b[0m\u001b[0mspeedsHH4\u001b[0m\u001b[1;33m)\u001b[0m\u001b[1;33m\u001b[0m\u001b[1;33m\u001b[0m\u001b[0m\n\u001b[0;32m      5\u001b[0m \u001b[0mEnergy5\u001b[0m \u001b[1;33m=\u001b[0m \u001b[0mEnergyCap2\u001b[0m\u001b[1;33m(\u001b[0m\u001b[1;36m20\u001b[0m\u001b[1;33m,\u001b[0m\u001b[1;36m0\u001b[0m\u001b[1;33m,\u001b[0m\u001b[0mdata\u001b[0m\u001b[1;33m=\u001b[0m\u001b[0mspeedsHH5\u001b[0m\u001b[1;33m)\u001b[0m\u001b[1;33m\u001b[0m\u001b[1;33m\u001b[0m\u001b[0m\n",
      "\u001b[1;31mNameError\u001b[0m: name 'EnergyCap2' is not defined"
     ]
    }
   ],
   "source": [
    "Energy1 = EnergyCap2(20,0,data=speedsHH)\n",
    "Energy2 = EnergyCap2(20,0,data=speedsHH2)\n",
    "Energy3 = EnergyCap2(20,0,data=speedsHH3)\n",
    "Energy4 = EnergyCap2(20,0,data=speedsHH4)\n",
    "Energy5 = EnergyCap2(20,0,data=speedsHH5)\n",
    "Energy6 = EnergyCap2(20,0,data=speedsHH6)\n",
    "Energy7 = EnergyCap2(20,0,data=speedsHH7)"
   ]
  },
  {
   "cell_type": "code",
   "execution_count": null,
   "metadata": {},
   "outputs": [],
   "source": [
    "HHs = np.arange(1,8,1)\n",
    "energies = [Energy1,Energy2,Energy3,Energy4,Energy5,Energy6,Energy7]\n",
    "plt.plot(HHs,energies)"
   ]
  },
  {
   "cell_type": "markdown",
   "metadata": {},
   "source": [
    "The number of turbines at each layer is counted and from this the total energy capture is determined"
   ]
  },
  {
   "cell_type": "code",
   "execution_count": null,
   "metadata": {},
   "outputs": [],
   "source": [
    "block0=22\n",
    "block1=21\n",
    "block2=20\n",
    "block3=18\n",
    "block4=18\n",
    "block5=11\n",
    "block6=0\n",
    "energytot = block0*Energy1+block1*Energy2+block2*Energy3+block3*Energy4+block4*Energy5+block5*Energy6\n",
    "print(f'The total energy of the array over one year is: {energytot} GWh')"
   ]
  },
  {
   "cell_type": "markdown",
   "metadata": {},
   "source": [
    "The following cell was used to find the LCOE"
   ]
  },
  {
   "cell_type": "code",
   "execution_count": null,
   "metadata": {},
   "outputs": [],
   "source": [
    "years = 27\n",
    "ran = np.arange(-5,years+2,1)\n",
    "r=0.06\n",
    "DevCost = 120000*1100\n",
    "PlantCost = 600000*1100\n",
    "InstCost = 650000*1100\n",
    "OMCost = 75000*1100\n",
    "DecommCost = 310000*1100\n",
    "towercost = 1240000*110\n",
    "othercost = 100000\n",
    "E=energytot*1000\n",
    "cumcost = 0\n",
    "cumE = 0\n",
    "for year in ran:\n",
    "    if year == 1:\n",
    "        I = towercost  + DevCost + PlantCost + InstCost\n",
    "    elif year == max(ran):\n",
    "        I = DecommCost\n",
    "    else:\n",
    "        I = 0\n",
    "    Mcost = OMCost\n",
    "    comp = (1+r)**year\n",
    "    cumcost = ((I+Mcost)/comp) + cumcost\n",
    "    cumE = E/comp + cumE\n",
    "\n",
    "LCOE = cumcost/cumE"
   ]
  },
  {
   "cell_type": "code",
   "execution_count": null,
   "metadata": {},
   "outputs": [],
   "source": [
    "print(LCOE)"
   ]
  }
 ],
 "metadata": {
  "kernelspec": {
   "display_name": "Python 3 (ipykernel)",
   "language": "python",
   "name": "python3"
  },
  "language_info": {
   "codemirror_mode": {
    "name": "ipython",
    "version": 3
   },
   "file_extension": ".py",
   "mimetype": "text/x-python",
   "name": "python",
   "nbconvert_exporter": "python",
   "pygments_lexer": "ipython3",
   "version": "3.9.7"
  }
 },
 "nbformat": 4,
 "nbformat_minor": 2
}
